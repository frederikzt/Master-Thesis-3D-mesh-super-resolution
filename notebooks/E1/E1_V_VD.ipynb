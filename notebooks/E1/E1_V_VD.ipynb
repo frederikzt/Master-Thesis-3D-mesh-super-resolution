{
  "cells": [
    {
      "cell_type": "markdown",
      "metadata": {
        "id": "F754iU_kJF_k",
        "colab_type": "text"
      },
      "source": [
        "#E1_V_VD"
      ]
    },
    {
      "cell_type": "markdown",
      "metadata": {
        "id": "1BynMKtVPb_H",
        "colab_type": "text"
      },
      "source": [
        "#1. Mount Google Drive and install libraries if needed"
      ]
    },
    {
      "cell_type": "code",
      "metadata": {
        "id": "AcnVySiTNhvx",
        "colab_type": "code",
        "outputId": "318df3c5-165a-4d8a-b495-199125f2a77e",
        "colab": {
          "base_uri": "https://localhost:8080/",
          "height": 126
        }
      },
      "source": [
        "from google.colab import drive\n",
        "drive.mount('/content/drive')"
      ],
      "execution_count": null,
      "outputs": []
    },
    {
      "cell_type": "code",
      "metadata": {
        "id": "7MCKb8W7ZVFL",
        "colab_type": "code",
        "outputId": "d9d87d84-86c6-46f9-8583-5e0f299c9555",
        "colab": {
          "base_uri": "https://localhost:8080/",
          "height": 1000
        }
      },
      "source": [
        "import os\n",
        "try:\n",
        "    import torch\n",
        "    import torchvision\n",
        "    import pytorch3d\n",
        "    import trimesh\n",
        "    import tensorflow_graphics\n",
        "    print(\"Libraries successfully imported\")\n",
        "except Exception as e:\n",
        "    print(\"Modules not found, but will now install\")\n",
        "    !pip install torch torchvision\n",
        "    !pip install 'git+https://github.com/facebookresearch/pytorch3d.git'\n",
        "    !pip install trimesh\n",
        "    !pip install tensorflow-graphics"
      ],
      "execution_count": null,
      "outputs": []
    },
    {
      "cell_type": "markdown",
      "metadata": {
        "id": "dYTL5me6Pjps",
        "colab_type": "text"
      },
      "source": [
        "#2. Import libraries"
      ]
    },
    {
      "cell_type": "code",
      "metadata": {
        "colab_type": "code",
        "id": "ylbZGXYBtuvB",
        "outputId": "43986577-6d51-47db-f502-25fe4b8188fb",
        "colab": {
          "base_uri": "https://localhost:8080/",
          "height": 52
        }
      },
      "source": [
        "import os\n",
        "import numpy as np\n",
        "from tqdm.autonotebook import tqdm\n",
        "from mpl_toolkits.mplot3d import Axes3D\n",
        "import matplotlib.pyplot as plt\n",
        "import matplotlib as mpl\n",
        "\n",
        "import trimesh\n",
        "from tensorflow_graphics.notebooks import threejs_visualization\n",
        "\n",
        "import torch\n",
        "from pytorch3d.io import load_obj, save_obj\n",
        "from pytorch3d.structures import Meshes\n",
        "from pytorch3d.ops import sample_points_from_meshes, SubdivideMeshes\n",
        "from pytorch3d.loss import (\n",
        "    chamfer_distance, \n",
        "    mesh_edge_loss, \n",
        "    mesh_laplacian_smoothing, \n",
        "    mesh_normal_consistency,\n",
        ")\n",
        "print(\"Imports complete\")"
      ],
      "execution_count": null,
      "outputs": []
    },
    {
      "cell_type": "markdown",
      "metadata": {
        "id": "klfcAmOfPnvx",
        "colab_type": "text"
      },
      "source": [
        "#3. Initialize GPU if available"
      ]
    },
    {
      "cell_type": "code",
      "metadata": {
        "id": "Cq7eqo4TyOEb",
        "colab_type": "code",
        "outputId": "c3a1dfcd-e4c7-4cca-8403-7c36daa88eef",
        "colab": {
          "base_uri": "https://localhost:8080/",
          "height": 35
        }
      },
      "source": [
        "if torch.cuda.is_available():\n",
        "    device = torch.device(\"cuda:0\")\n",
        "    cpu_device = torch.device(\"cpu\")\n",
        "    print(\"Device set to GPU\")\n",
        "else:\n",
        "    device = torch.device(\"cpu\")\n",
        "    print(\"Device set to CPU\")"
      ],
      "execution_count": null,
      "outputs": []
    },
    {
      "cell_type": "markdown",
      "metadata": {
        "id": "fKYtw3KKPwRF",
        "colab_type": "text"
      },
      "source": [
        "#4. Conect to Google Drive and specify the paths"
      ]
    },
    {
      "cell_type": "code",
      "metadata": {
        "id": "F4tU8MKze48h",
        "colab_type": "code",
        "colab": {}
      },
      "source": [
        "path = \"drive/My Drive/Colab Notebooks/Datasets/Models/\"\n",
        "input_path = path + 'input/datasets/'\n",
        "target_path = path + 'target/datasets/'"
      ],
      "execution_count": null,
      "outputs": []
    },
    {
      "cell_type": "markdown",
      "metadata": {
        "id": "gXmIyr0WP5vf",
        "colab_type": "text"
      },
      "source": [
        "#5. Load data"
      ]
    },
    {
      "cell_type": "code",
      "metadata": {
        "id": "nqPAXZEae84l",
        "colab_type": "code",
        "colab": {}
      },
      "source": [
        "def load_data(data_path):\n",
        "    loaded_data = []\n",
        "    print(\"Loading data\")\n",
        "    for obj in tqdm(sorted(os.listdir(data_path))):\n",
        "        try:\n",
        "            path = os.path.join(data_path, obj)\n",
        "            verts, faces, aux = load_obj(path, load_textures=False)            \n",
        "            loaded_data.append([np.array(verts), np.array(faces[0])])\n",
        "\n",
        "        except Exception as e:\n",
        "            print(str(e))\n",
        "\n",
        "    return loaded_data"
      ],
      "execution_count": null,
      "outputs": []
    },
    {
      "cell_type": "code",
      "metadata": {
        "id": "AvkxXRuqeJH1",
        "colab_type": "code",
        "colab": {}
      },
      "source": [
        "def subdivide(data):\n",
        "    meshes_subdivided = []\n",
        "    print(\"Subdividing data\")\n",
        "    for i in tqdm(range(len(data))):\n",
        "        mesh = Meshes(verts=[torch.from_numpy(data[i][0])], faces=[torch.from_numpy(data[i][1])])\n",
        "        subdivided_mesh = SubdivideMeshes().forward(meshes=mesh)\n",
        "        verts = subdivided_mesh.verts_list()\n",
        "        faces = subdivided_mesh.faces_list()\n",
        "        meshes_subdivided.append([np.array(verts[0]), np.array(faces[0])])\n",
        "\n",
        "    return meshes_subdivided"
      ],
      "execution_count": null,
      "outputs": []
    },
    {
      "cell_type": "code",
      "metadata": {
        "id": "_gQcjDrdUU4D",
        "colab_type": "code",
        "colab": {}
      },
      "source": [
        "REBUILD_DATA = False\n",
        "if REBUILD_DATA:\n",
        "    input_models_test = load_data(input_path + \"test/\")\n",
        "    input_models_train = load_data(input_path + \"train/\")\n",
        "\n",
        "    target_models_test = load_data(target_path + \"test/\")\n",
        "    target_models_train = load_data(target_path + \"train/\")\n",
        "\n",
        "    input_models_test = subdivide(input_models_test)\n",
        "    input_models_train = subdivide(input_models_train)\n",
        "\n",
        "    np.save(path + 'input_models_train.npy', input_models_train, allow_pickle=True)\n",
        "    np.save(path + 'input_models_test.npy', input_models_test, allow_pickle=True)\n",
        "    np.save(path + 'target_models_train.npy', target_models_train, allow_pickle=True)\n",
        "    np.save(path + 'target_models_test.npy', target_models_test, allow_pickle=True)"
      ],
      "execution_count": null,
      "outputs": []
    },
    {
      "cell_type": "code",
      "metadata": {
        "id": "WeQqVh9kHWL8",
        "colab_type": "code",
        "colab": {}
      },
      "source": [
        "LOAD_DATA = True\n",
        "if LOAD_DATA:\n",
        "    input_models_train = np.load(path + 'input_models_train.npy', allow_pickle=True)\n",
        "    input_models_test = np.load(path + 'input_models_test.npy', allow_pickle=True)\n",
        "\n",
        "    target_models_train = np.load(path + 'target_models_train.npy', allow_pickle=True)\n",
        "    target_models_test = np.load(path + 'target_models_test.npy', allow_pickle=True)"
      ],
      "execution_count": null,
      "outputs": []
    },
    {
      "cell_type": "code",
      "metadata": {
        "id": "2afEqZXMHbE3",
        "colab_type": "code",
        "colab": {}
      },
      "source": [
        "def validate_dataset(dataset):\n",
        "    same_amount = True\n",
        "    for i in range(np.array(dataset).shape[0]):\n",
        "        if len(dataset[0][0]) != len(dataset[i][0]) or len(dataset[0][1]) != len(dataset[i][1]):\n",
        "            same_amount = False\n",
        "    if same_amount:\n",
        "        print(\"Vertices: \", len(dataset[0][0]))\n",
        "        print(\"Faces: \", len(dataset[0][1]))\n",
        "    else:\n",
        "        print(\"Meshes has different amount of vertices and faces\")"
      ],
      "execution_count": null,
      "outputs": []
    },
    {
      "cell_type": "code",
      "metadata": {
        "id": "Uu_FHS6AHdho",
        "colab_type": "code",
        "outputId": "51752caa-3015-40b5-9fcc-e3613f0fd049",
        "colab": {
          "base_uri": "https://localhost:8080/",
          "height": 159
        }
      },
      "source": [
        "validate_dataset(input_models_test)\n",
        "validate_dataset(input_models_train)\n",
        "validate_dataset(target_models_train)\n",
        "validate_dataset(target_models_test)"
      ],
      "execution_count": null,
      "outputs": []
    },
    {
      "cell_type": "markdown",
      "metadata": {
        "id": "nXUihTCpQBN_",
        "colab_type": "text"
      },
      "source": [
        "#6. Visualize some meshes to ensure the data was loaded correctly"
      ]
    },
    {
      "cell_type": "code",
      "metadata": {
        "id": "um_PsCLkM63y",
        "colab_type": "code",
        "outputId": "c1a7b28a-a8f8-424a-f8f1-082b5ab1741c",
        "colab": {
          "base_uri": "https://localhost:8080/",
          "height": 1000
        }
      },
      "source": [
        "display_size = 500\n",
        "id_train = 0\n",
        "id_test = 0\n",
        "\n",
        "input_test_mesh = {\"vertices\": input_models_test[id_test][0], \"faces\": input_models_test[id_test][1]}\n",
        "input_train_mesh = {\"vertices\": input_models_train[id_train][0], \"faces\": input_models_train[id_train][1]}\n",
        "target_test_mesh = {\"vertices\": target_models_test[id_test][0], \"faces\": target_models_test[id_test][1]}\n",
        "target_train_mesh = {\"vertices\": target_models_train[id_train][0], \"faces\": target_models_train[id_train][1]}\n",
        "\n",
        "threejs_visualization.triangular_mesh_renderer(input_train_mesh, width=display_size, height=display_size)\n",
        "threejs_visualization.triangular_mesh_renderer(target_train_mesh, width=display_size, height=display_size)\n",
        "threejs_visualization.triangular_mesh_renderer(input_test_mesh, width=display_size, height=display_size)\n",
        "threejs_visualization.triangular_mesh_renderer(target_test_mesh, width=display_size, height=display_size)"
      ],
      "execution_count": null,
      "outputs": []
    },
    {
      "cell_type": "markdown",
      "metadata": {
        "colab_type": "text",
        "id": "48rsIHPToez6"
      },
      "source": [
        "#PART 2 - Deep Learning\n",
        "###2.1 Build network"
      ]
    },
    {
      "cell_type": "code",
      "metadata": {
        "id": "-ZStAG6PQd0S",
        "colab_type": "code",
        "colab": {}
      },
      "source": [
        "import torch.nn as nn\n",
        "import torch.nn.functional as F\n",
        "import torch.optim as optim\n",
        "\n",
        "from google.colab import output\n",
        "\n",
        "torch.set_default_tensor_type('torch.cuda.FloatTensor')"
      ],
      "execution_count": null,
      "outputs": []
    },
    {
      "cell_type": "code",
      "metadata": {
        "id": "kNYO_u4UQ-GU",
        "colab_type": "code",
        "outputId": "2fc0b142-6209-45be-dd66-9edf7600c3d2",
        "colab": {
          "base_uri": "https://localhost:8080/",
          "height": 177
        }
      },
      "source": [
        "neurons = 5000\n",
        "\n",
        "class Net(nn.Module):\n",
        "    def __init__(self):\n",
        "        super().__init__()\n",
        "        self.fci = nn.Linear(202 * 3, neurons)\n",
        "        self.fch1 = nn.Linear(neurons, neurons)\n",
        "        self.fch2 = nn.Linear(neurons, neurons)\n",
        "        self.fch3 = nn.Linear(neurons, neurons)\n",
        "        self.fch4 = nn.Linear(neurons, neurons)\n",
        "        self.fch5 = nn.Linear(neurons, neurons)\n",
        "        self.fco = nn.Linear(neurons, 202 * 3)\n",
        "\n",
        "    def forward(self, x):\n",
        "        x = F.relu(self.fci(x))\n",
        "        x = F.relu(self.fch1(x))\n",
        "        x = F.relu(self.fch2(x))\n",
        "        x = F.relu(self.fch3(x))\n",
        "        x = F.relu(self.fch4(x))\n",
        "        x = F.relu(self.fch5(x))\n",
        "        x = self.fco(x)\n",
        "        return x\n",
        "\n",
        "net = Net()\n",
        "net.to(device)\n",
        "print(net)"
      ],
      "execution_count": null,
      "outputs": []
    },
    {
      "cell_type": "code",
      "metadata": {
        "id": "s8pymby8zI09",
        "colab_type": "code",
        "outputId": "ce2cd32f-4dd9-43ea-953d-f48d31ebe520",
        "colab": {
          "base_uri": "https://localhost:8080/",
          "height": 301
        }
      },
      "source": [
        "optimizer = optim.Adam(net.parameters(), lr=0.00001)\n",
        "\n",
        "w_chamfer = 1.0\n",
        "w_chamfer_normals = 1.0\n",
        "w_edge = 1.0\n",
        "w_normal = 0.01\n",
        "w_laplacian = 0.1\n",
        "\n",
        "epochs = 30\n",
        "dataset_size = len(input_models_train)\n",
        "\n",
        "print(\"Optimizer: \" + str(optimizer))\n",
        "print(\"Loss function weights\" + \"\\nChamfer distance: \" + str(w_chamfer) + \"\\nChamfer normals distance: \" + str(w_chamfer_normals) + \"\\nEdge length weight: \" + str(w_edge) + \"\\nNormal consistency: \" + str(w_chamfer) +  \"\\nLaplacian smoothing: \" + str(w_laplacian))\n",
        "print(\"Epochs: \" + str(epochs))\n",
        "print(\"Dataset size: \" + str(dataset_size))"
      ],
      "execution_count": null,
      "outputs": []
    },
    {
      "cell_type": "code",
      "metadata": {
        "id": "0fhbJiHCD1qg",
        "colab_type": "code",
        "colab": {}
      },
      "source": [
        "total_losses = []\n",
        "chamfer_losses = []\n",
        "chamfer_normals_losses = []\n",
        "edge_losses = []\n",
        "normal_losses = []\n",
        "laplacian_losses = []"
      ],
      "execution_count": null,
      "outputs": []
    },
    {
      "cell_type": "code",
      "metadata": {
        "id": "ulX6O7cmxrai",
        "colab_type": "code",
        "outputId": "5e9735fd-6a2c-4b40-91fd-7375e3e1c3ff",
        "colab": {
          "base_uri": "https://localhost:8080/",
          "height": 122,
          "referenced_widgets": [
            "ee6e4cfb40fd48a39cc260dc94adda85",
            "1313ce98f6224857a3f60b0d5f462af1",
            "c55c7953ac40416c8f39f49cfb41ef34",
            "870b8c8e224243aba08fa41a883c4cc2",
            "47c5028fc40d493ebf358a3c4a983091",
            "802b0a0e0d724ea596cbf949695c3c3c",
            "20e5d0f7b1904f7fb8a11eccdf9aa3b8",
            "9ceea7664c154822b49ac93cbc95aa72"
          ]
        }
      },
      "source": [
        "import time\n",
        "start_time = time.time()\n",
        "\n",
        "for epoch in tqdm(range(epochs)):\n",
        "    for i in range(dataset_size):\n",
        "        net.zero_grad()\n",
        "\n",
        "        input_mesh_verts = torch.from_numpy(input_models_train[i][0]).cuda()\n",
        "        input_mesh_faces = torch.from_numpy(input_models_train[i][1]).cuda()\n",
        "\n",
        "        target_mesh_verts = torch.from_numpy(target_models_train[i][0]).cuda()\n",
        "        target_mesh_faces = torch.from_numpy(target_models_train[i][1]).cuda()\n",
        "\n",
        "        net_input = input_mesh_verts.view(-1)\n",
        "        net_output = net(net_input.cuda())\n",
        "\n",
        "        output_mesh_verts = input_mesh_verts + net_output.view(-1, 3)\n",
        "        output_mesh_faces = input_mesh_faces\n",
        "\n",
        "        output_mesh = Meshes(verts=[output_mesh_verts], faces=[output_mesh_faces])\n",
        "        target_mesh = Meshes(verts=[target_mesh_verts], faces=[target_mesh_faces])\n",
        "\n",
        "        sample_output_mesh, output_normals = sample_points_from_meshes(output_mesh, 5000, return_normals=True)\n",
        "        sample_target_mesh, target_normals = sample_points_from_meshes(target_mesh, 5000, return_normals=True)\n",
        "\n",
        "        loss_chamfer, loss_chamfer_normals = chamfer_distance(sample_output_mesh, sample_target_mesh, x_normals=output_normals, y_normals=target_normals)\n",
        "        loss_edge = mesh_edge_loss(output_mesh)\n",
        "        loss_normal = mesh_normal_consistency(output_mesh)\n",
        "        loss_laplacian = mesh_laplacian_smoothing(output_mesh, method=\"uniform\")\n",
        "\n",
        "        chamfer_losses.append(loss_chamfer)\n",
        "        chamfer_normals_losses.append(loss_chamfer_normals)\n",
        "        edge_losses.append(loss_edge)\n",
        "        normal_losses.append(loss_normal)\n",
        "        laplacian_losses.append(loss_edge)\n",
        "\n",
        "        loss = loss_chamfer * w_chamfer + loss_chamfer_normals * w_chamfer_normals + loss_edge * w_edge + loss_normal * w_normal + loss_laplacian * w_laplacian\n",
        "\n",
        "        total_losses.append(loss)\n",
        "\n",
        "        loss.backward()\n",
        "        optimizer.step()\n",
        "        \n",
        "print(\"Execution time %s seconds\" % round((time.time() - start_time), 2))"
      ],
      "execution_count": null,
      "outputs": []
    },
    {
      "cell_type": "markdown",
      "metadata": {
        "id": "UED6cRzECB1W",
        "colab_type": "text"
      },
      "source": [
        "#2.2 Plot losses from training"
      ]
    },
    {
      "cell_type": "code",
      "metadata": {
        "id": "fm1yzfjVD_Rs",
        "colab_type": "code",
        "colab": {}
      },
      "source": [
        "import matplotlib.pyplot as plt\n",
        "def plot_losses(input_losses, title, i_dataset_size, i_epochs):\n",
        "    extracted_losses = []\n",
        "    for i in range(i_dataset_size * i_epochs):\n",
        "        loss = input_losses[i].item()\n",
        "        extracted_losses.append(loss)\n",
        "    plt.plot(extracted_losses) \n",
        "    plt.title(title)\n",
        "    plt.xlabel('Epochs')\n",
        "    plt.ylabel('Loss')\n",
        "    plt.show()"
      ],
      "execution_count": null,
      "outputs": []
    },
    {
      "cell_type": "code",
      "metadata": {
        "id": "vk_fMgEUCBPk",
        "colab_type": "code",
        "outputId": "726a04b0-3364-4549-9596-859e1c6554ae",
        "colab": {
          "base_uri": "https://localhost:8080/",
          "height": 1000
        }
      },
      "source": [
        "plot_losses(total_losses, 'Total loss', dataset_size, epochs)\n",
        "plot_losses(chamfer_losses, 'Chamfer distance loss', dataset_size, epochs)\n",
        "plot_losses(chamfer_normals_losses, 'Chamfer distance normals loss', dataset_size, epochs)\n",
        "plot_losses(edge_losses, 'Mesh edge loss', dataset_size, epochs)\n",
        "plot_losses(normal_losses, 'Mesh normal consistency loss', dataset_size, epochs)\n",
        "plot_losses(laplacian_losses, 'Mesh laplacian smoothing loss', dataset_size, epochs)"
      ],
      "execution_count": null,
      "outputs": []
    },
    {
      "cell_type": "markdown",
      "metadata": {
        "id": "9Akz3jsEZbcj",
        "colab_type": "text"
      },
      "source": [
        "#Plot average losses from training"
      ]
    },
    {
      "cell_type": "code",
      "metadata": {
        "id": "xBaLujqcZdfd",
        "colab_type": "code",
        "colab": {}
      },
      "source": [
        "import matplotlib.pyplot as plt\n",
        "def average_loss(input_losses, dataset_size, epochs):\n",
        "    average_losses = []\n",
        "    for e in range(epochs):\n",
        "        epoch_losses = []\n",
        "        for i in range(dataset_size):\n",
        "            loss = input_losses[(e*dataset_size)+i].item()\n",
        "            epoch_losses.append(loss)\n",
        "        epoch_average = np.average(epoch_losses)\n",
        "        average_losses.append(epoch_average)\n",
        "    return average_losses"
      ],
      "execution_count": null,
      "outputs": []
    },
    {
      "cell_type": "code",
      "metadata": {
        "id": "-jOGQfcioeTq",
        "colab_type": "code",
        "colab": {}
      },
      "source": [
        "average_total_losses =  average_loss(total_losses, dataset_size, 10)\n",
        "average_chamfer_losses =  average_loss(chamfer_losses, dataset_size, 10)\n",
        "average_chamfer_normals_losses =  average_loss(chamfer_normals_losses, dataset_size, 10)\n",
        "average_edge_losses =  average_loss(edge_losses, dataset_size, 10)\n",
        "average_normal_losses =  average_loss(normal_losses, dataset_size, 10)\n",
        "average_laplacian_losses =  average_loss(laplacian_losses, dataset_size, 10)"
      ],
      "execution_count": null,
      "outputs": []
    },
    {
      "cell_type": "code",
      "metadata": {
        "id": "X3-ZRGWcZhLu",
        "colab_type": "code",
        "outputId": "34d9b9e2-6456-48c7-b97c-8ccc73f76ac6",
        "colab": {
          "base_uri": "https://localhost:8080/"
        }
      },
      "source": [
        "plt.plot(average_total_losses, linewidth=3,  label=\"Total\")\n",
        "plt.plot(average_chamfer_losses, linestyle='dashed', label=\"Chamfer\")\n",
        "plt.plot(average_chamfer_normals_losses, linestyle='dashed', label=\"Chamfer Normals\")\n",
        "plt.plot(average_edge_losses, linestyle='dashed', label=\"Edges\")\n",
        "plt.plot(average_normal_losses, linestyle='dashed', label=\"Normals\")\n",
        "plt.plot(average_laplacian_losses, linestyle='dashed', label=\"Laplacian\")\n",
        "plt.title(\"Average of the different losses per epoch\")\n",
        "plt.xlabel('Epochs')\n",
        "plt.ylabel('Loss')\n",
        "plt.legend()\n",
        "plt.show()"
      ],
      "execution_count": null,
      "outputs": []
    },
    {
      "cell_type": "markdown",
      "metadata": {
        "id": "Tgj4WDx3OF2e",
        "colab_type": "text"
      },
      "source": [
        "#Training total loss with moving average"
      ]
    },
    {
      "cell_type": "code",
      "metadata": {
        "id": "63U1hMzCOEog",
        "colab_type": "code",
        "colab": {}
      },
      "source": [
        "import matplotlib.pyplot as plt\n",
        "def plot_losses_mvavg(input_losses, title, epochs):\n",
        "    excact_losses = []\n",
        "    for i in range(i_dataset_size * i_epochs):\n",
        "        loss = input_losses[i].item()\n",
        "        extracted_losses.append(loss)\n",
        "    \n",
        "    plt.plot(extracted_losses) \n",
        "    plt.title(title)\n",
        "    plt.xlabel('Epochs')\n",
        "    plt.ylabel('Loss')\n",
        "    plt.show()"
      ],
      "execution_count": null,
      "outputs": []
    },
    {
      "cell_type": "markdown",
      "metadata": {
        "id": "yfmsJCFzvtxL",
        "colab_type": "text"
      },
      "source": [
        "# Test on training- and testset"
      ]
    },
    {
      "cell_type": "code",
      "metadata": {
        "id": "4M_EIc8JvwEo",
        "colab_type": "code",
        "colab": {}
      },
      "source": [
        "def test_model(input_models, target_models, dataset_size):\n",
        "\n",
        "    total_losses = []\n",
        "    chamfer_losses = []\n",
        "    chamfer_normals_losses = []\n",
        "    edge_losses = []\n",
        "    normal_losses = []\n",
        "    laplacian_losses = []\n",
        "\n",
        "    with torch.no_grad():\n",
        "        for i in tqdm(range(dataset_size)):\n",
        "            input_mesh_verts = torch.from_numpy(input_models[i][0]).cuda()\n",
        "            input_mesh_faces = torch.from_numpy(input_models[i][1]).cuda()\n",
        "\n",
        "            target_mesh_verts = torch.from_numpy(target_models[i][0]).cuda()\n",
        "            target_mesh_faces = torch.from_numpy(target_models[i][1]).cuda()\n",
        "\n",
        "            net_input = input_mesh_verts.view(-1)\n",
        "            net_output = net(net_input.cuda())\n",
        "\n",
        "            output_mesh_verts = input_mesh_verts + net_output.view(-1, 3)\n",
        "            output_mesh_faces = input_mesh_faces\n",
        "\n",
        "            output_mesh = Meshes(verts=[output_mesh_verts], faces=[output_mesh_faces])\n",
        "            target_mesh = Meshes(verts=[target_mesh_verts], faces=[target_mesh_faces])\n",
        "\n",
        "            sample_output_mesh, output_normals = sample_points_from_meshes(output_mesh, 5000, return_normals=True)\n",
        "            sample_target_mesh, target_normals = sample_points_from_meshes(target_mesh, 5000, return_normals=True)\n",
        "\n",
        "            loss_chamfer, loss_chamfer_normals = chamfer_distance(sample_output_mesh, sample_target_mesh, x_normals=output_normals, y_normals=target_normals)\n",
        "            loss_edge = mesh_edge_loss(output_mesh)\n",
        "            loss_normal = mesh_normal_consistency(output_mesh)\n",
        "            loss_laplacian = mesh_laplacian_smoothing(output_mesh, method=\"uniform\")\n",
        "\n",
        "            chamfer_losses.append(loss_chamfer)\n",
        "            chamfer_normals_losses.append(loss_chamfer_normals)\n",
        "            edge_losses.append(loss_edge)\n",
        "            normal_losses.append(loss_normal)\n",
        "            laplacian_losses.append(loss_edge)\n",
        "\n",
        "            loss = loss_chamfer * w_chamfer + loss_chamfer_normals * w_chamfer_normals + loss_edge * w_edge + loss_normal * w_normal + loss_laplacian * w_laplacian\n",
        "\n",
        "            total_losses.append(loss)\n",
        "    \n",
        "    return total_losses, chamfer_losses, chamfer_normals_losses, edge_losses, normal_losses, laplacian_losses     "
      ],
      "execution_count": null,
      "outputs": []
    },
    {
      "cell_type": "code",
      "metadata": {
        "id": "U0sY6TQWHqbM",
        "colab_type": "code",
        "outputId": "f5cddc25-5afa-4202-a562-5b220303f48d",
        "colab": {
          "base_uri": "https://localhost:8080/",
          "height": 67,
          "referenced_widgets": [
            "020a7631caa6468e836103323cec0788",
            "bb96d1ab70a34b98b5123f5c618ee100",
            "38f7be6913384eae9b708984ba9a5307",
            "4d7f792a72f4418c885c5a25bb866be5",
            "456dcd3db0f84a4f96afdf6729a96057",
            "52e9534273e24ea892d958e0f54d12a7",
            "abd5908a29c94fc0bcfc1fb6338e9a0d",
            "9cc17eb7fb6c491788b75c6303316b18"
          ]
        }
      },
      "source": [
        " train_total_losses, train_chamfer_losses, train_chamfer_normals_losses, train_edge_losses, train_normal_losses, train_laplacian_losses = test_model(input_models_train, target_models_train, 500)"
      ],
      "execution_count": null,
      "outputs": []
    },
    {
      "cell_type": "code",
      "metadata": {
        "id": "9euz8IFQHmTF",
        "colab_type": "code",
        "outputId": "bfe5c73f-482e-4dba-dd19-31b021b7003f",
        "colab": {
          "base_uri": "https://localhost:8080/",
          "height": 67,
          "referenced_widgets": [
            "2c72b80e5a244d94a08c7e699b3e48c1",
            "a51f3ddf84f748698cb41ccf59e21b34",
            "5d175bc3cec04b07bdf0929370185360",
            "59ac31f34d214feba2bbe1a355a3d630",
            "3caaa18d2a9f44b5b52e8950d960ead9",
            "809e1b4047564e0cafc8b32a64483398",
            "e198018fd09d49b1aa80c827b5232bd3",
            "2374d0ea0a484bb2aa9ccae306787ba4"
          ]
        }
      },
      "source": [
        " test_total_losses, test_chamfer_losses, test_chamfer_normals_losses, test_edge_losses, test_normal_losses, test_laplacian_losses = test_model(input_models_test, target_models_test, 500)"
      ],
      "execution_count": null,
      "outputs": []
    },
    {
      "cell_type": "code",
      "metadata": {
        "id": "cVMxH9aIIULT",
        "colab_type": "code",
        "colab": {}
      },
      "source": [
        "def print_average(input_losses):\n",
        "    losses = []\n",
        "    for i in range(len(input_losses)):\n",
        "        loss = input_losses[i].item()\n",
        "        losses.append(loss)\n",
        "    return round(np.mean(losses), 3)"
      ],
      "execution_count": null,
      "outputs": []
    },
    {
      "cell_type": "code",
      "metadata": {
        "id": "hqipi8QYKNir",
        "colab_type": "code",
        "outputId": "9fae8659-7a73-4e6f-9eb3-5b454543bf7b",
        "colab": {
          "base_uri": "https://localhost:8080/"
        }
      },
      "source": [
        "print(\"Training set average total loss\")\n",
        "print_average(train_total_losses)"
      ],
      "execution_count": null,
      "outputs": []
    },
    {
      "cell_type": "code",
      "metadata": {
        "id": "2zZt0OrlKVnx",
        "colab_type": "code",
        "outputId": "38b79a19-83f9-49d6-b987-8253f29bfa30",
        "colab": {
          "base_uri": "https://localhost:8080/"
        }
      },
      "source": [
        "print(\"Test set average total loss\")\n",
        "print_average(test_total_losses)"
      ],
      "execution_count": null,
      "outputs": []
    },
    {
      "cell_type": "markdown",
      "metadata": {
        "id": "YQzVy8iPwdes",
        "colab_type": "text"
      },
      "source": [
        "# Visualize 3D models"
      ]
    },
    {
      "cell_type": "code",
      "metadata": {
        "id": "t5zs-vaIl1I9",
        "colab_type": "code",
        "colab": {}
      },
      "source": [
        "def visualize_results(input_set, target_set, mesh_id):\n",
        "    display_size = 400\n",
        "    camera = threejs_visualization.build_perspective_camera(enable_zoom=True)\n",
        "\n",
        "    with torch.no_grad():\n",
        "        input_mesh_verts = torch.from_numpy(input_set[mesh_id][0]).cuda()\n",
        "        input_mesh_faces = torch.from_numpy(input_set[mesh_id][1]).cuda()\n",
        "\n",
        "        target_mesh_verts = torch.from_numpy(target_set[mesh_id][0]).cuda()\n",
        "        target_mesh_faces = torch.from_numpy(target_set[mesh_id][1]).cuda()\n",
        "\n",
        "        net_input = input_mesh_verts.view(-1)\n",
        "        net_output = net(net_input.cuda())\n",
        "\n",
        "        output_mesh_verts = input_mesh_verts + net_output.view(-1, 3)\n",
        "        output_mesh_faces = input_mesh_faces\n",
        "\n",
        "        input_mesh = Meshes(verts=[input_mesh_verts], faces=[input_mesh_faces])\n",
        "        output_mesh = Meshes(verts=[output_mesh_verts], faces=[output_mesh_faces])\n",
        "        target_mesh = Meshes(verts=[target_mesh_verts], faces=[target_mesh_faces])\n",
        "\n",
        "        input_mesh_trimesh = {\"vertices\": np.array(input_mesh.verts_list()[0].tolist()), \"faces\": np.array(input_mesh.faces_list()[0].tolist())}\n",
        "        output_mesh_trimesh = {\"vertices\": np.array(output_mesh.verts_list()[0].tolist()), \"faces\": np.array(output_mesh.faces_list()[0].tolist())}\n",
        "        target_mesh_triemsh = {\"vertices\": np.array(target_mesh.verts_list()[0].tolist()), \"faces\": np.array(target_mesh.faces_list()[0].tolist())}\n",
        "\n",
        "        threejs_visualization.triangular_mesh_renderer(input_mesh_trimesh, width=display_size, height=display_size, camera=camera)\n",
        "        threejs_visualization.triangular_mesh_renderer(output_mesh_trimesh, width=display_size, height=display_size, camera=camera)\n",
        "        threejs_visualization.triangular_mesh_renderer(target_mesh_triemsh, width=display_size, height=display_size, camera=camera)"
      ],
      "execution_count": null,
      "outputs": []
    },
    {
      "cell_type": "code",
      "metadata": {
        "id": "rwW5n_UymRrj",
        "colab_type": "code",
        "outputId": "036cdc36-96f3-41df-d997-dcabd1694ca6",
        "colab": {
          "base_uri": "https://localhost:8080/",
          "height": 421
        }
      },
      "source": [
        "#Train\n",
        "visualize_results(input_models_train, target_models_train, 0)"
      ],
      "execution_count": null,
      "outputs": []
    },
    {
      "cell_type": "code",
      "metadata": {
        "id": "fl2yUc2rSA7S",
        "colab_type": "code",
        "outputId": "31e8624b-5a97-4778-e363-6723a5e0937d",
        "colab": {
          "base_uri": "https://localhost:8080/",
          "height": 421
        }
      },
      "source": [
        "#Test\n",
        "visualize_results(input_models_test, target_models_test, 0)"
      ],
      "execution_count": null,
      "outputs": []
    }
  ],
  "metadata": {
    "bento_stylesheets": {
      "bento/extensions/flow/main.css": true,
      "bento/extensions/kernel_selector/main.css": true,
      "bento/extensions/kernel_ui/main.css": true,
      "bento/extensions/new_kernel/main.css": true,
      "bento/extensions/system_usage/main.css": true,
      "bento/extensions/theme/main.css": true
    },
    "colab": {
      "name": "E1_V_VD.ipynb",
      "provenance": [],
      "collapsed_sections": [],
      "machine_shape": "hm"
    },
    "kernelspec": {
      "name": "python3",
      "display_name": "Python 3"
    },
    "accelerator": "GPU",
    "widgets": {
      "application/vnd.jupyter.widget-state+json": {
        "ee6e4cfb40fd48a39cc260dc94adda85": {
          "model_module": "@jupyter-widgets/controls",
          "model_name": "HBoxModel",
          "state": {
            "_view_name": "HBoxView",
            "_dom_classes": [],
            "_model_name": "HBoxModel",
            "_view_module": "@jupyter-widgets/controls",
            "_model_module_version": "1.5.0",
            "_view_count": null,
            "_view_module_version": "1.5.0",
            "box_style": "",
            "layout": "IPY_MODEL_1313ce98f6224857a3f60b0d5f462af1",
            "_model_module": "@jupyter-widgets/controls",
            "children": [
              "IPY_MODEL_c55c7953ac40416c8f39f49cfb41ef34",
              "IPY_MODEL_870b8c8e224243aba08fa41a883c4cc2"
            ]
          }
        },
        "1313ce98f6224857a3f60b0d5f462af1": {
          "model_module": "@jupyter-widgets/base",
          "model_name": "LayoutModel",
          "state": {
            "_view_name": "LayoutView",
            "grid_template_rows": null,
            "right": null,
            "justify_content": null,
            "_view_module": "@jupyter-widgets/base",
            "overflow": null,
            "_model_module_version": "1.2.0",
            "_view_count": null,
            "flex_flow": null,
            "width": null,
            "min_width": null,
            "border": null,
            "align_items": null,
            "bottom": null,
            "_model_module": "@jupyter-widgets/base",
            "top": null,
            "grid_column": null,
            "overflow_y": null,
            "overflow_x": null,
            "grid_auto_flow": null,
            "grid_area": null,
            "grid_template_columns": null,
            "flex": null,
            "_model_name": "LayoutModel",
            "justify_items": null,
            "grid_row": null,
            "max_height": null,
            "align_content": null,
            "visibility": null,
            "align_self": null,
            "height": null,
            "min_height": null,
            "padding": null,
            "grid_auto_rows": null,
            "grid_gap": null,
            "max_width": null,
            "order": null,
            "_view_module_version": "1.2.0",
            "grid_template_areas": null,
            "object_position": null,
            "object_fit": null,
            "grid_auto_columns": null,
            "margin": null,
            "display": null,
            "left": null
          }
        },
        "c55c7953ac40416c8f39f49cfb41ef34": {
          "model_module": "@jupyter-widgets/controls",
          "model_name": "FloatProgressModel",
          "state": {
            "_view_name": "ProgressView",
            "style": "IPY_MODEL_47c5028fc40d493ebf358a3c4a983091",
            "_dom_classes": [],
            "description": "100%",
            "_model_name": "FloatProgressModel",
            "bar_style": "success",
            "max": 30,
            "_view_module": "@jupyter-widgets/controls",
            "_model_module_version": "1.5.0",
            "value": 30,
            "_view_count": null,
            "_view_module_version": "1.5.0",
            "orientation": "horizontal",
            "min": 0,
            "description_tooltip": null,
            "_model_module": "@jupyter-widgets/controls",
            "layout": "IPY_MODEL_802b0a0e0d724ea596cbf949695c3c3c"
          }
        },
        "870b8c8e224243aba08fa41a883c4cc2": {
          "model_module": "@jupyter-widgets/controls",
          "model_name": "HTMLModel",
          "state": {
            "_view_name": "HTMLView",
            "style": "IPY_MODEL_20e5d0f7b1904f7fb8a11eccdf9aa3b8",
            "_dom_classes": [],
            "description": "",
            "_model_name": "HTMLModel",
            "placeholder": "​",
            "_view_module": "@jupyter-widgets/controls",
            "_model_module_version": "1.5.0",
            "value": " 30/30 [1:54:54&lt;00:00, 229.81s/it]",
            "_view_count": null,
            "_view_module_version": "1.5.0",
            "description_tooltip": null,
            "_model_module": "@jupyter-widgets/controls",
            "layout": "IPY_MODEL_9ceea7664c154822b49ac93cbc95aa72"
          }
        },
        "47c5028fc40d493ebf358a3c4a983091": {
          "model_module": "@jupyter-widgets/controls",
          "model_name": "ProgressStyleModel",
          "state": {
            "_view_name": "StyleView",
            "_model_name": "ProgressStyleModel",
            "description_width": "initial",
            "_view_module": "@jupyter-widgets/base",
            "_model_module_version": "1.5.0",
            "_view_count": null,
            "_view_module_version": "1.2.0",
            "bar_color": null,
            "_model_module": "@jupyter-widgets/controls"
          }
        },
        "802b0a0e0d724ea596cbf949695c3c3c": {
          "model_module": "@jupyter-widgets/base",
          "model_name": "LayoutModel",
          "state": {
            "_view_name": "LayoutView",
            "grid_template_rows": null,
            "right": null,
            "justify_content": null,
            "_view_module": "@jupyter-widgets/base",
            "overflow": null,
            "_model_module_version": "1.2.0",
            "_view_count": null,
            "flex_flow": null,
            "width": null,
            "min_width": null,
            "border": null,
            "align_items": null,
            "bottom": null,
            "_model_module": "@jupyter-widgets/base",
            "top": null,
            "grid_column": null,
            "overflow_y": null,
            "overflow_x": null,
            "grid_auto_flow": null,
            "grid_area": null,
            "grid_template_columns": null,
            "flex": null,
            "_model_name": "LayoutModel",
            "justify_items": null,
            "grid_row": null,
            "max_height": null,
            "align_content": null,
            "visibility": null,
            "align_self": null,
            "height": null,
            "min_height": null,
            "padding": null,
            "grid_auto_rows": null,
            "grid_gap": null,
            "max_width": null,
            "order": null,
            "_view_module_version": "1.2.0",
            "grid_template_areas": null,
            "object_position": null,
            "object_fit": null,
            "grid_auto_columns": null,
            "margin": null,
            "display": null,
            "left": null
          }
        },
        "20e5d0f7b1904f7fb8a11eccdf9aa3b8": {
          "model_module": "@jupyter-widgets/controls",
          "model_name": "DescriptionStyleModel",
          "state": {
            "_view_name": "StyleView",
            "_model_name": "DescriptionStyleModel",
            "description_width": "",
            "_view_module": "@jupyter-widgets/base",
            "_model_module_version": "1.5.0",
            "_view_count": null,
            "_view_module_version": "1.2.0",
            "_model_module": "@jupyter-widgets/controls"
          }
        },
        "9ceea7664c154822b49ac93cbc95aa72": {
          "model_module": "@jupyter-widgets/base",
          "model_name": "LayoutModel",
          "state": {
            "_view_name": "LayoutView",
            "grid_template_rows": null,
            "right": null,
            "justify_content": null,
            "_view_module": "@jupyter-widgets/base",
            "overflow": null,
            "_model_module_version": "1.2.0",
            "_view_count": null,
            "flex_flow": null,
            "width": null,
            "min_width": null,
            "border": null,
            "align_items": null,
            "bottom": null,
            "_model_module": "@jupyter-widgets/base",
            "top": null,
            "grid_column": null,
            "overflow_y": null,
            "overflow_x": null,
            "grid_auto_flow": null,
            "grid_area": null,
            "grid_template_columns": null,
            "flex": null,
            "_model_name": "LayoutModel",
            "justify_items": null,
            "grid_row": null,
            "max_height": null,
            "align_content": null,
            "visibility": null,
            "align_self": null,
            "height": null,
            "min_height": null,
            "padding": null,
            "grid_auto_rows": null,
            "grid_gap": null,
            "max_width": null,
            "order": null,
            "_view_module_version": "1.2.0",
            "grid_template_areas": null,
            "object_position": null,
            "object_fit": null,
            "grid_auto_columns": null,
            "margin": null,
            "display": null,
            "left": null
          }
        },
        "020a7631caa6468e836103323cec0788": {
          "model_module": "@jupyter-widgets/controls",
          "model_name": "HBoxModel",
          "state": {
            "_view_name": "HBoxView",
            "_dom_classes": [],
            "_model_name": "HBoxModel",
            "_view_module": "@jupyter-widgets/controls",
            "_model_module_version": "1.5.0",
            "_view_count": null,
            "_view_module_version": "1.5.0",
            "box_style": "",
            "layout": "IPY_MODEL_bb96d1ab70a34b98b5123f5c618ee100",
            "_model_module": "@jupyter-widgets/controls",
            "children": [
              "IPY_MODEL_38f7be6913384eae9b708984ba9a5307",
              "IPY_MODEL_4d7f792a72f4418c885c5a25bb866be5"
            ]
          }
        },
        "bb96d1ab70a34b98b5123f5c618ee100": {
          "model_module": "@jupyter-widgets/base",
          "model_name": "LayoutModel",
          "state": {
            "_view_name": "LayoutView",
            "grid_template_rows": null,
            "right": null,
            "justify_content": null,
            "_view_module": "@jupyter-widgets/base",
            "overflow": null,
            "_model_module_version": "1.2.0",
            "_view_count": null,
            "flex_flow": null,
            "width": null,
            "min_width": null,
            "border": null,
            "align_items": null,
            "bottom": null,
            "_model_module": "@jupyter-widgets/base",
            "top": null,
            "grid_column": null,
            "overflow_y": null,
            "overflow_x": null,
            "grid_auto_flow": null,
            "grid_area": null,
            "grid_template_columns": null,
            "flex": null,
            "_model_name": "LayoutModel",
            "justify_items": null,
            "grid_row": null,
            "max_height": null,
            "align_content": null,
            "visibility": null,
            "align_self": null,
            "height": null,
            "min_height": null,
            "padding": null,
            "grid_auto_rows": null,
            "grid_gap": null,
            "max_width": null,
            "order": null,
            "_view_module_version": "1.2.0",
            "grid_template_areas": null,
            "object_position": null,
            "object_fit": null,
            "grid_auto_columns": null,
            "margin": null,
            "display": null,
            "left": null
          }
        },
        "38f7be6913384eae9b708984ba9a5307": {
          "model_module": "@jupyter-widgets/controls",
          "model_name": "FloatProgressModel",
          "state": {
            "_view_name": "ProgressView",
            "style": "IPY_MODEL_456dcd3db0f84a4f96afdf6729a96057",
            "_dom_classes": [],
            "description": "100%",
            "_model_name": "FloatProgressModel",
            "bar_style": "success",
            "max": 500,
            "_view_module": "@jupyter-widgets/controls",
            "_model_module_version": "1.5.0",
            "value": 500,
            "_view_count": null,
            "_view_module_version": "1.5.0",
            "orientation": "horizontal",
            "min": 0,
            "description_tooltip": null,
            "_model_module": "@jupyter-widgets/controls",
            "layout": "IPY_MODEL_52e9534273e24ea892d958e0f54d12a7"
          }
        },
        "4d7f792a72f4418c885c5a25bb866be5": {
          "model_module": "@jupyter-widgets/controls",
          "model_name": "HTMLModel",
          "state": {
            "_view_name": "HTMLView",
            "style": "IPY_MODEL_abd5908a29c94fc0bcfc1fb6338e9a0d",
            "_dom_classes": [],
            "description": "",
            "_model_name": "HTMLModel",
            "placeholder": "​",
            "_view_module": "@jupyter-widgets/controls",
            "_model_module_version": "1.5.0",
            "value": " 500/500 [00:10&lt;00:00, 48.29it/s]",
            "_view_count": null,
            "_view_module_version": "1.5.0",
            "description_tooltip": null,
            "_model_module": "@jupyter-widgets/controls",
            "layout": "IPY_MODEL_9cc17eb7fb6c491788b75c6303316b18"
          }
        },
        "456dcd3db0f84a4f96afdf6729a96057": {
          "model_module": "@jupyter-widgets/controls",
          "model_name": "ProgressStyleModel",
          "state": {
            "_view_name": "StyleView",
            "_model_name": "ProgressStyleModel",
            "description_width": "initial",
            "_view_module": "@jupyter-widgets/base",
            "_model_module_version": "1.5.0",
            "_view_count": null,
            "_view_module_version": "1.2.0",
            "bar_color": null,
            "_model_module": "@jupyter-widgets/controls"
          }
        },
        "52e9534273e24ea892d958e0f54d12a7": {
          "model_module": "@jupyter-widgets/base",
          "model_name": "LayoutModel",
          "state": {
            "_view_name": "LayoutView",
            "grid_template_rows": null,
            "right": null,
            "justify_content": null,
            "_view_module": "@jupyter-widgets/base",
            "overflow": null,
            "_model_module_version": "1.2.0",
            "_view_count": null,
            "flex_flow": null,
            "width": null,
            "min_width": null,
            "border": null,
            "align_items": null,
            "bottom": null,
            "_model_module": "@jupyter-widgets/base",
            "top": null,
            "grid_column": null,
            "overflow_y": null,
            "overflow_x": null,
            "grid_auto_flow": null,
            "grid_area": null,
            "grid_template_columns": null,
            "flex": null,
            "_model_name": "LayoutModel",
            "justify_items": null,
            "grid_row": null,
            "max_height": null,
            "align_content": null,
            "visibility": null,
            "align_self": null,
            "height": null,
            "min_height": null,
            "padding": null,
            "grid_auto_rows": null,
            "grid_gap": null,
            "max_width": null,
            "order": null,
            "_view_module_version": "1.2.0",
            "grid_template_areas": null,
            "object_position": null,
            "object_fit": null,
            "grid_auto_columns": null,
            "margin": null,
            "display": null,
            "left": null
          }
        },
        "abd5908a29c94fc0bcfc1fb6338e9a0d": {
          "model_module": "@jupyter-widgets/controls",
          "model_name": "DescriptionStyleModel",
          "state": {
            "_view_name": "StyleView",
            "_model_name": "DescriptionStyleModel",
            "description_width": "",
            "_view_module": "@jupyter-widgets/base",
            "_model_module_version": "1.5.0",
            "_view_count": null,
            "_view_module_version": "1.2.0",
            "_model_module": "@jupyter-widgets/controls"
          }
        },
        "9cc17eb7fb6c491788b75c6303316b18": {
          "model_module": "@jupyter-widgets/base",
          "model_name": "LayoutModel",
          "state": {
            "_view_name": "LayoutView",
            "grid_template_rows": null,
            "right": null,
            "justify_content": null,
            "_view_module": "@jupyter-widgets/base",
            "overflow": null,
            "_model_module_version": "1.2.0",
            "_view_count": null,
            "flex_flow": null,
            "width": null,
            "min_width": null,
            "border": null,
            "align_items": null,
            "bottom": null,
            "_model_module": "@jupyter-widgets/base",
            "top": null,
            "grid_column": null,
            "overflow_y": null,
            "overflow_x": null,
            "grid_auto_flow": null,
            "grid_area": null,
            "grid_template_columns": null,
            "flex": null,
            "_model_name": "LayoutModel",
            "justify_items": null,
            "grid_row": null,
            "max_height": null,
            "align_content": null,
            "visibility": null,
            "align_self": null,
            "height": null,
            "min_height": null,
            "padding": null,
            "grid_auto_rows": null,
            "grid_gap": null,
            "max_width": null,
            "order": null,
            "_view_module_version": "1.2.0",
            "grid_template_areas": null,
            "object_position": null,
            "object_fit": null,
            "grid_auto_columns": null,
            "margin": null,
            "display": null,
            "left": null
          }
        },
        "2c72b80e5a244d94a08c7e699b3e48c1": {
          "model_module": "@jupyter-widgets/controls",
          "model_name": "HBoxModel",
          "state": {
            "_view_name": "HBoxView",
            "_dom_classes": [],
            "_model_name": "HBoxModel",
            "_view_module": "@jupyter-widgets/controls",
            "_model_module_version": "1.5.0",
            "_view_count": null,
            "_view_module_version": "1.5.0",
            "box_style": "",
            "layout": "IPY_MODEL_a51f3ddf84f748698cb41ccf59e21b34",
            "_model_module": "@jupyter-widgets/controls",
            "children": [
              "IPY_MODEL_5d175bc3cec04b07bdf0929370185360",
              "IPY_MODEL_59ac31f34d214feba2bbe1a355a3d630"
            ]
          }
        },
        "a51f3ddf84f748698cb41ccf59e21b34": {
          "model_module": "@jupyter-widgets/base",
          "model_name": "LayoutModel",
          "state": {
            "_view_name": "LayoutView",
            "grid_template_rows": null,
            "right": null,
            "justify_content": null,
            "_view_module": "@jupyter-widgets/base",
            "overflow": null,
            "_model_module_version": "1.2.0",
            "_view_count": null,
            "flex_flow": null,
            "width": null,
            "min_width": null,
            "border": null,
            "align_items": null,
            "bottom": null,
            "_model_module": "@jupyter-widgets/base",
            "top": null,
            "grid_column": null,
            "overflow_y": null,
            "overflow_x": null,
            "grid_auto_flow": null,
            "grid_area": null,
            "grid_template_columns": null,
            "flex": null,
            "_model_name": "LayoutModel",
            "justify_items": null,
            "grid_row": null,
            "max_height": null,
            "align_content": null,
            "visibility": null,
            "align_self": null,
            "height": null,
            "min_height": null,
            "padding": null,
            "grid_auto_rows": null,
            "grid_gap": null,
            "max_width": null,
            "order": null,
            "_view_module_version": "1.2.0",
            "grid_template_areas": null,
            "object_position": null,
            "object_fit": null,
            "grid_auto_columns": null,
            "margin": null,
            "display": null,
            "left": null
          }
        },
        "5d175bc3cec04b07bdf0929370185360": {
          "model_module": "@jupyter-widgets/controls",
          "model_name": "FloatProgressModel",
          "state": {
            "_view_name": "ProgressView",
            "style": "IPY_MODEL_3caaa18d2a9f44b5b52e8950d960ead9",
            "_dom_classes": [],
            "description": "100%",
            "_model_name": "FloatProgressModel",
            "bar_style": "success",
            "max": 500,
            "_view_module": "@jupyter-widgets/controls",
            "_model_module_version": "1.5.0",
            "value": 500,
            "_view_count": null,
            "_view_module_version": "1.5.0",
            "orientation": "horizontal",
            "min": 0,
            "description_tooltip": null,
            "_model_module": "@jupyter-widgets/controls",
            "layout": "IPY_MODEL_809e1b4047564e0cafc8b32a64483398"
          }
        },
        "59ac31f34d214feba2bbe1a355a3d630": {
          "model_module": "@jupyter-widgets/controls",
          "model_name": "HTMLModel",
          "state": {
            "_view_name": "HTMLView",
            "style": "IPY_MODEL_e198018fd09d49b1aa80c827b5232bd3",
            "_dom_classes": [],
            "description": "",
            "_model_name": "HTMLModel",
            "placeholder": "​",
            "_view_module": "@jupyter-widgets/controls",
            "_model_module_version": "1.5.0",
            "value": " 500/500 [00:09&lt;00:00, 51.04it/s]",
            "_view_count": null,
            "_view_module_version": "1.5.0",
            "description_tooltip": null,
            "_model_module": "@jupyter-widgets/controls",
            "layout": "IPY_MODEL_2374d0ea0a484bb2aa9ccae306787ba4"
          }
        },
        "3caaa18d2a9f44b5b52e8950d960ead9": {
          "model_module": "@jupyter-widgets/controls",
          "model_name": "ProgressStyleModel",
          "state": {
            "_view_name": "StyleView",
            "_model_name": "ProgressStyleModel",
            "description_width": "initial",
            "_view_module": "@jupyter-widgets/base",
            "_model_module_version": "1.5.0",
            "_view_count": null,
            "_view_module_version": "1.2.0",
            "bar_color": null,
            "_model_module": "@jupyter-widgets/controls"
          }
        },
        "809e1b4047564e0cafc8b32a64483398": {
          "model_module": "@jupyter-widgets/base",
          "model_name": "LayoutModel",
          "state": {
            "_view_name": "LayoutView",
            "grid_template_rows": null,
            "right": null,
            "justify_content": null,
            "_view_module": "@jupyter-widgets/base",
            "overflow": null,
            "_model_module_version": "1.2.0",
            "_view_count": null,
            "flex_flow": null,
            "width": null,
            "min_width": null,
            "border": null,
            "align_items": null,
            "bottom": null,
            "_model_module": "@jupyter-widgets/base",
            "top": null,
            "grid_column": null,
            "overflow_y": null,
            "overflow_x": null,
            "grid_auto_flow": null,
            "grid_area": null,
            "grid_template_columns": null,
            "flex": null,
            "_model_name": "LayoutModel",
            "justify_items": null,
            "grid_row": null,
            "max_height": null,
            "align_content": null,
            "visibility": null,
            "align_self": null,
            "height": null,
            "min_height": null,
            "padding": null,
            "grid_auto_rows": null,
            "grid_gap": null,
            "max_width": null,
            "order": null,
            "_view_module_version": "1.2.0",
            "grid_template_areas": null,
            "object_position": null,
            "object_fit": null,
            "grid_auto_columns": null,
            "margin": null,
            "display": null,
            "left": null
          }
        },
        "e198018fd09d49b1aa80c827b5232bd3": {
          "model_module": "@jupyter-widgets/controls",
          "model_name": "DescriptionStyleModel",
          "state": {
            "_view_name": "StyleView",
            "_model_name": "DescriptionStyleModel",
            "description_width": "",
            "_view_module": "@jupyter-widgets/base",
            "_model_module_version": "1.5.0",
            "_view_count": null,
            "_view_module_version": "1.2.0",
            "_model_module": "@jupyter-widgets/controls"
          }
        },
        "2374d0ea0a484bb2aa9ccae306787ba4": {
          "model_module": "@jupyter-widgets/base",
          "model_name": "LayoutModel",
          "state": {
            "_view_name": "LayoutView",
            "grid_template_rows": null,
            "right": null,
            "justify_content": null,
            "_view_module": "@jupyter-widgets/base",
            "overflow": null,
            "_model_module_version": "1.2.0",
            "_view_count": null,
            "flex_flow": null,
            "width": null,
            "min_width": null,
            "border": null,
            "align_items": null,
            "bottom": null,
            "_model_module": "@jupyter-widgets/base",
            "top": null,
            "grid_column": null,
            "overflow_y": null,
            "overflow_x": null,
            "grid_auto_flow": null,
            "grid_area": null,
            "grid_template_columns": null,
            "flex": null,
            "_model_name": "LayoutModel",
            "justify_items": null,
            "grid_row": null,
            "max_height": null,
            "align_content": null,
            "visibility": null,
            "align_self": null,
            "height": null,
            "min_height": null,
            "padding": null,
            "grid_auto_rows": null,
            "grid_gap": null,
            "max_width": null,
            "order": null,
            "_view_module_version": "1.2.0",
            "grid_template_areas": null,
            "object_position": null,
            "object_fit": null,
            "grid_auto_columns": null,
            "margin": null,
            "display": null,
            "left": null
          }
        }
      }
    }
  },
  "nbformat": 4,
  "nbformat_minor": 0
}